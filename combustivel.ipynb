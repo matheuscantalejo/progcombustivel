{
 "cells": [
  {
   "cell_type": "code",
   "execution_count": 136,
   "id": "6a29dffd",
   "metadata": {},
   "outputs": [
    {
     "name": "stdout",
     "output_type": "stream",
     "text": [
      "Digite o valor da gasolina R$:4.220\n",
      "R$: 2.9539999999999997\n",
      "Abastece com gasolina\n"
     ]
    }
   ],
   "source": [
    "# Programa de combustivel\n",
    "\n",
    "gasolina = float(input('Digite o valor da gasolina R$:'))\n",
    "etanol = 4.600\n",
    "compensa = (gasolina * 0.7)\n",
    "\n",
    "print(\"R$:\",compensa)\n",
    "\n",
    "if gasolina>etanol:\n",
    "    print(\"Abastece com Etanol\")\n",
    "else:\n",
    "    print(\"Abastece com gasolina\")\n"
   ]
  },
  {
   "cell_type": "code",
   "execution_count": null,
   "id": "6d144bc1",
   "metadata": {},
   "outputs": [],
   "source": []
  },
  {
   "cell_type": "code",
   "execution_count": null,
   "id": "9b643491",
   "metadata": {},
   "outputs": [],
   "source": []
  }
 ],
 "metadata": {
  "kernelspec": {
   "display_name": "Python 3 (ipykernel)",
   "language": "python",
   "name": "python3"
  },
  "language_info": {
   "codemirror_mode": {
    "name": "ipython",
    "version": 3
   },
   "file_extension": ".py",
   "mimetype": "text/x-python",
   "name": "python",
   "nbconvert_exporter": "python",
   "pygments_lexer": "ipython3",
   "version": "3.9.7"
  }
 },
 "nbformat": 4,
 "nbformat_minor": 5
}
